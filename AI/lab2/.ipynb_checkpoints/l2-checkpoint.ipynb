{
 "cells": [
  {
   "cell_type": "markdown",
   "metadata": {},
   "source": [
    "# Вторая лабораторная работа: Алгоритмы классификации"
   ]
  },
  {
   "cell_type": "code",
   "execution_count": 1,
   "metadata": {},
   "outputs": [],
   "source": [
    "import numpy as np\n",
    "import pandas as pd\n",
    "import warnings\n",
    "warnings.filterwarnings(\"ignore\")"
   ]
  },
  {
   "cell_type": "markdown",
   "metadata": {},
   "source": [
    "Подгружаем данные. Превращаем 4 категории в 2 из-за того, что я написал бинарную модель логистической регрессии. Разбиваем данные на X и y."
   ]
  },
  {
   "cell_type": "code",
   "execution_count": 2,
   "metadata": {},
   "outputs": [],
   "source": [
    "data = pd.read_csv(\"train.csv\")\n",
    "y = data['price_range'].map({0: 0, 1: 0, 2: 1, 3: 1})\n",
    "x = data.drop('price_range',axis=1)"
   ]
  },
  {
   "cell_type": "markdown",
   "metadata": {},
   "source": [
    "Пишем функцию со всеми нужными метриками для оценки качества модели."
   ]
  },
  {
   "cell_type": "code",
   "execution_count": 3,
   "metadata": {},
   "outputs": [],
   "source": [
    "from sklearn.linear_model import LogisticRegression as SLLogisticRegression\n",
    "from sklearn.neighbors import KNeighborsClassifier as SLKNeighborsClassifier\n",
    "from sklearn.tree import DecisionTreeClassifier as SLDecisionTreeClassifier\n",
    "from sklearn.ensemble import RandomForestClassifier as SLRandomForestClassifier\n",
    "\n",
    "from sklearn.model_selection import StratifiedKFold\n",
    "from sklearn.metrics import precision_score, recall_score, accuracy_score\n",
    "\n",
    "def GetMetrics(model, x=x, y=y, splits=5, average='macro'):\n",
    "    kFold = StratifiedKFold(n_splits=splits, random_state=123, shuffle=True)\n",
    "    precision = np.zeros(splits)\n",
    "    recall = np.zeros(splits)\n",
    "    testAccuracy = np.zeros(splits)\n",
    "    trainAccuracy = np.zeros(splits)\n",
    "    execTime = np.zeros(splits)\n",
    "\n",
    "    for i, (iTrain, iCheck) in enumerate(kFold.split(x, y)):\n",
    "        xTrain = x.loc[iTrain].to_numpy()\n",
    "        yTrain = y.loc[iTrain].to_numpy()\n",
    "        xCheck = x.loc[iCheck].to_numpy()\n",
    "        yCheck = y.loc[iCheck].to_numpy()\n",
    "\n",
    "        execTime[i] = -time.time()\n",
    "\n",
    "        model.fit(xTrain, yTrain)\n",
    "\n",
    "        yCheckPredicted = model.predict(xCheck)\n",
    "        yTrainPredicted = model.predict(xTrain)\n",
    "\n",
    "        execTime[i] += time.time()\n",
    "\n",
    "        precision[i] = precision_score(yCheck, yCheckPredicted, average=average)\n",
    "        recall[i] = recall_score(yCheck, yCheckPredicted, average=average)\n",
    "        trainAccuracy[i] = accuracy_score(yTrain, yTrainPredicted)\n",
    "        testAccuracy[i] = accuracy_score(yCheck, yCheckPredicted)\n",
    "\n",
    "    return {'precision': precision.mean(), 'recall': recall.mean(), 'train accuracy': trainAccuracy.mean(), 'test accuracy': testAccuracy.mean(), 'execution time': execTime.mean()}"
   ]
  },
  {
   "cell_type": "code",
   "execution_count": 4,
   "metadata": {},
   "outputs": [
    {
     "name": "stdout",
     "output_type": "stream",
     "text": [
      "1. RandomForestClassifier\n",
      "Метрики алгоритма в моем исполнении:\n",
      "precision: 0.8244123191216783\n",
      "recall: 0.8145\n",
      "train accuracy: 0.9223750000000001\n",
      "test accuracy: 0.8145\n",
      "execution time: 57.063833236694336\n",
      "\n",
      "Метрики алгоритма из sklearn:\n",
      "precision: 0.9506059664748399\n",
      "recall: 0.9504999999999999\n",
      "train accuracy: 1.0\n",
      "test accuracy: 0.9504999999999999\n",
      "execution time: 0.6378506660461426\n",
      "\n",
      "Алгоритм из sklearn работает в 1.167 раз точнее.\n",
      "И в 89.463 раз быстрее.\n",
      "\n",
      "\n"
     ]
    }
   ],
   "source": [
    "import time\n",
    "\n",
    "modelNames = ('LogisticRegression', 'KNeighborsClassifier', 'DecisionTreeClassifier', 'RandomForestClassifier')\n",
    "for i, modelName in zip(range(1, len(modelNames) + 1), modelNames):\n",
    "    exec(f'from models import {modelName} as My{modelName}')\n",
    "\n",
    "    exec(f'myModel = My{modelName}()')\n",
    "    exec(f'slModel = SL{modelName}()')\n",
    "    myMetrics = GetMetrics(myModel)\n",
    "    slMetrics = GetMetrics(slModel)\n",
    "    \n",
    "    print(f'{i}. {modelName}')\n",
    "    print('Метрики алгоритма в моем исполнении:')\n",
    "    for keys,values in myMetrics.items():\n",
    "        print(f'{keys}: {values}')\n",
    "    print()\n",
    "    \n",
    "    print('Метрики алгоритма из sklearn:')\n",
    "    for keys,values in slMetrics.items():\n",
    "        print(f'{keys}: {values}')\n",
    "    print()\n",
    "    \n",
    "    accuracyRatio = slMetrics['test accuracy'] / myMetrics['test accuracy']\n",
    "    timeRatio = myMetrics['execution time'] / slMetrics['execution time']\n",
    "    if accuracyRatio > 1:\n",
    "        print(f'Алгоритм из sklearn работает в {accuracyRatio:.3f} раз точнее.')\n",
    "        if timeRatio > 1:\n",
    "            print(f'И в {timeRatio:.3f} раз быстрее.')\n",
    "        elif timeRatio < 1:\n",
    "            timeRatio = 1 / timeRatio\n",
    "            print(f'Но в {timeRatio:.3f} раз медленнее.')\n",
    "        else:\n",
    "            print('И с той же скоростью, что и моя реализация.')\n",
    "    elif accuracyRatio < 1:\n",
    "        accuracyRatio = 1 / accuracyRatio\n",
    "        print(f'Написапнный мной алгоритм работает точнее, чем алгоритм из sklearn в {accuracyRatio:.3f} раз.')\n",
    "        if timeRatio > 1:\n",
    "            print(f'Но в {timeRatio:.3f} раз медленнее.')\n",
    "        elif timeRatio < 1:\n",
    "            timeRatio = 1 / timeRatio\n",
    "            print(f'И в {timeRatio:.3f} раз быстрее.')\n",
    "        else:\n",
    "            print('И с той же скоростью')\n",
    "    else:\n",
    "        print('Моя реализация работает с той же точностью, что и алгоритм из sklearn.')\n",
    "        if timeRatio > 1:\n",
    "            print(f'Но в {timeRatio:.3f} раз медленнее.')\n",
    "        elif timeRatio < 1:\n",
    "            timeRatio = 1 / timeRatio\n",
    "            print(f'И в {timeRatio:.3f} раз быстрее.')\n",
    "        else:\n",
    "            print('И с той же скоростью')\n",
    "    print()\n",
    "    print()"
   ]
  }
 ],
 "metadata": {
  "kernelspec": {
   "display_name": "Python 3",
   "language": "python",
   "name": "python3"
  },
  "language_info": {
   "codemirror_mode": {
    "name": "ipython",
    "version": 3
   },
   "file_extension": ".py",
   "mimetype": "text/x-python",
   "name": "python",
   "nbconvert_exporter": "python",
   "pygments_lexer": "ipython3",
   "version": "3.7.7"
  }
 },
 "nbformat": 4,
 "nbformat_minor": 4
}
